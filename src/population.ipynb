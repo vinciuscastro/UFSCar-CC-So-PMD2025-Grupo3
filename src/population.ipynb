{
 "cells": [
  {
   "cell_type": "markdown",
   "id": "1a6d8635",
   "metadata": {},
   "source": [
    "# Preparation"
   ]
  },
  {
   "cell_type": "markdown",
   "id": "e84d05c4",
   "metadata": {},
   "source": [
    "## Imports"
   ]
  },
  {
   "cell_type": "code",
   "execution_count": 2,
   "id": "02992af5",
   "metadata": {},
   "outputs": [],
   "source": [
    "import os\n",
    "import random\n",
    "import json\n",
    "import dotenv\n",
    "from pymongo import MongoClient\n",
    "from pymongo.server_api import ServerApi\n",
    "from pymongo.errors import CollectionInvalid, DuplicateKeyError\n",
    "from neo4j import GraphDatabase\n",
    "from neo4j.exceptions import ClientError\n",
    "import spotipy\n",
    "from spotipy.oauth2 import SpotifyClientCredentials\n",
    "from faker import Faker"
   ]
  },
  {
   "cell_type": "markdown",
   "id": "eda7b40b",
   "metadata": {},
   "source": [
    "## Connect to MongoDB"
   ]
  },
  {
   "cell_type": "code",
   "execution_count": 3,
   "id": "670f86a8",
   "metadata": {},
   "outputs": [],
   "source": [
    "dotenv.load_dotenv()\n",
    "\n",
    "mongo_user = os.getenv(\"MONGODB_USERNAME\")\n",
    "mongo_pass = os.getenv(\"MONGODB_PASSWORD\")\n",
    "\n",
    "mongo_client = MongoClient(\n",
    "    (f\"mongodb+srv://{os.getenv(\"MONGODB_USERNAME\")}:{os.getenv(\"MONGODB_PASSWORD\")}\"\n",
    "     \"@projeto-bd.9scqvyv.mongodb.net/\"\n",
    "     \"?retryWrites=true&w=majority&appName=projeto-bd\"),\n",
    "    server_api = ServerApi(\n",
    "        version = \"1\",\n",
    "        strict = True,\n",
    "        deprecation_errors = True\n",
    "    )\n",
    ")\n",
    "\n",
    "mongo_db = mongo_client[\"music_catalog\"]"
   ]
  },
  {
   "cell_type": "markdown",
   "id": "ee0c504e",
   "metadata": {},
   "source": [
    "## Connect to Neo4j"
   ]
  },
  {
   "cell_type": "code",
   "execution_count": 4,
   "id": "32545738",
   "metadata": {},
   "outputs": [],
   "source": [
    "dotenv.load_dotenv()\n",
    "\n",
    "neo4j = GraphDatabase.driver(\n",
    "    \"neo4j+s://10ab7e50.databases.neo4j.io\",\n",
    "    auth = (\n",
    "        os.getenv(\"NEO4J_USERNAME\"),\n",
    "        os.getenv(\"NEO4J_PASSWORD\"),\n",
    "    ),\n",
    ")\n",
    "\n",
    "neo4j.verify_connectivity()"
   ]
  },
  {
   "cell_type": "markdown",
   "id": "12130606",
   "metadata": {},
   "source": [
    "## Connect to Spotify API"
   ]
  },
  {
   "cell_type": "code",
   "execution_count": 5,
   "id": "ff5d24bd",
   "metadata": {},
   "outputs": [],
   "source": [
    "dotenv.load_dotenv()\n",
    "\n",
    "spotify = spotipy.Spotify(auth_manager=SpotifyClientCredentials())"
   ]
  },
  {
   "cell_type": "markdown",
   "id": "296d8ad3",
   "metadata": {},
   "source": [
    "## Init Faker"
   ]
  },
  {
   "cell_type": "code",
   "execution_count": 6,
   "id": "a6ba1a5a",
   "metadata": {},
   "outputs": [],
   "source": [
    "fake = Faker()"
   ]
  },
  {
   "cell_type": "markdown",
   "id": "fde7c029",
   "metadata": {},
   "source": [
    "# Artists"
   ]
  },
  {
   "cell_type": "markdown",
   "id": "2676cea9",
   "metadata": {},
   "source": [
    "## Create Entities"
   ]
  },
  {
   "cell_type": "markdown",
   "id": "04d4f3f5",
   "metadata": {},
   "source": [
    "### MongoDB"
   ]
  },
  {
   "cell_type": "code",
   "execution_count": 7,
   "id": "953ca27c",
   "metadata": {},
   "outputs": [],
   "source": [
    "try:\n",
    "    mongo_db.create_collection(\"artists\")\n",
    "    mongo_db.artists.create_index(\"releases.id\")\n",
    "except CollectionInvalid as e:\n",
    "    print(e)"
   ]
  },
  {
   "cell_type": "markdown",
   "id": "80c06f74",
   "metadata": {},
   "source": [
    "### Neo4j"
   ]
  },
  {
   "cell_type": "code",
   "execution_count": 8,
   "id": "4d5d9f7b",
   "metadata": {},
   "outputs": [
    {
     "name": "stdout",
     "output_type": "stream",
     "text": [
      "An equivalent constraint already exists, 'Constraint( id=3, name='constraint_49e61036', type='NODE PROPERTY UNIQUENESS', schema=(:Artist {id}), ownedIndex=2 )'.\n"
     ]
    }
   ],
   "source": [
    "try:\n",
    "    neo4j.execute_query(\"CREATE CONSTRAINT FOR (a:Artist) REQUIRE a.id IS UNIQUE\")\n",
    "    neo4j.execute_query(\"CREATE CONSTRAINT FOR (g:Genre) REQUIRE g.name IS UNIQUE\")\n",
    "    neo4j.execute_query(\"CREATE CONSTRAINT FOR (r:Release) REQUIRE r.id IS UNIQUE\")\n",
    "except ClientError as e:\n",
    "    print(e.message)"
   ]
  },
  {
   "cell_type": "markdown",
   "id": "6be53850",
   "metadata": {},
   "source": [
    "## Retrieve Artists by Genre"
   ]
  },
  {
   "cell_type": "markdown",
   "id": "82559ecf",
   "metadata": {},
   "source": [
    "### From Spotify"
   ]
  },
  {
   "cell_type": "code",
   "execution_count": null,
   "id": "01d218ab",
   "metadata": {},
   "outputs": [],
   "source": [
    "response = spotify.search(\n",
    "    q = \"genre:djent\",\n",
    "    type = \"artist\",\n",
    ")\n",
    "artist_ids = [artist[\"id\"] for artist in response[\"artists\"][\"items\"]]\n",
    "\n",
    "while response[\"artists\"][\"next\"]:\n",
    "    response = spotify.next(response[\"artists\"])\n",
    "    artist_ids.extend([artist[\"id\"] for artist in response[\"artists\"][\"items\"]])\n",
    "\n",
    "artist_ids"
   ]
  },
  {
   "cell_type": "markdown",
   "id": "6b4cb34f",
   "metadata": {},
   "source": [
    "### From JSON"
   ]
  },
  {
   "cell_type": "code",
   "execution_count": 9,
   "id": "3e3d4a74",
   "metadata": {},
   "outputs": [
    {
     "data": {
      "text/plain": [
       "['3Ri4H12KFyu98LMjSoij5V',\n",
       " '6vwjIs0tbIiseJMR3pqwiL',\n",
       " '6qqNVTkY8uBg9cP3Jd7DAH',\n",
       " '4zllGt4ePrRAIaWiEu5pyz',\n",
       " '1Ffb6ejR6Fe5IamqA5oRUF',\n",
       " '4yRSUmhuSJ3KcIMljdh4fH',\n",
       " '3P4vW5tzQvmuoNaFQqzy9q',\n",
       " '3l0CmX0FuQjFxr8SK7Vqag',\n",
       " '7kWnE981vITXDnAD2cZmCV',\n",
       " '6V267iCF72e4eP1L3ZkKQt',\n",
       " '4XpPveeg7RuYS3CgLo75t9',\n",
       " '0NbQe5CNgh4YApOCDuHSjb',\n",
       " '6qpmcQfxhmNxNMCJUrpHwe',\n",
       " '0GDGKpJFhVpcjIGF8N6Ewt',\n",
       " '7yYa2im7sawSzuVkXx8W21',\n",
       " '6sHCvZe1PHrOAuYlwTLNH4',\n",
       " '6LE9lW3E48cGM8tk5UGv30',\n",
       " '6FfjnGXMhxSsJTuGLWBDth',\n",
       " '6fb3I3Q54izgnOMtiZbOBA',\n",
       " '7nKz8GVqHk0bUGmBm6wm3E',\n",
       " '7rqJQQxuUOCk052MK5kLsH',\n",
       " '3ALVPmg5sZexSVD2m9atEt',\n",
       " '7o6cOczXTB8ioTAAJTbESf',\n",
       " '1ejkQAcOu9cl7kEbZ3Nb8b',\n",
       " '3MZsBdqDrRTJihTHQrO6Dq',\n",
       " '6XyY86QOPPrYVGvF9ch6wz',\n",
       " '4G9wSdX0klmoHfjm9i6DLd',\n",
       " '4qY6XGFQwZubu0oKBJeVki',\n",
       " '0LCI5aIo6Wd80D1AzHEu0F',\n",
       " '0P9pI1DLcVTkobNcZ7Tb1N',\n",
       " '27e4QBDvN4daYHHokUpWZY',\n",
       " '6Ai0kQ1MZABOQLVZNGozBB',\n",
       " '6MwPCCR936cYfM1dLsGVnl',\n",
       " '5BIBb9b6B9bKsebZFtgIVB',\n",
       " '77SW9BnxLY8rJ0RciFqkHh',\n",
       " '2kxP07DLgs4xlWz8YHlvfh',\n",
       " '6jqZZA8CPEkhFaVjBJ4Ctl',\n",
       " '4hLXhGTDiIeQ2YmqNGXJz2',\n",
       " '5sH4dr4r46Vm0Qu84PAYvk',\n",
       " '6d24kC5fxHFOSEAmjQPPhc',\n",
       " '0v2e0oznnTaIXKLGKHphfX',\n",
       " '3TmaQHOfq1olDKHtE38zYT',\n",
       " '29CQLw9uLWsl8Qkz9holfr',\n",
       " '1R9eQdiIWCTdMAeIMA3oLK',\n",
       " '4xnihxcoXWK3UqryOSnbw5',\n",
       " '0JGTiwfinlCuANGu4Gq2XU',\n",
       " '4MzJMcHQBl9SIYSjwWn8QW',\n",
       " '2RiGIRDi4GoJpDbjDnPVJl',\n",
       " '6OJlDXf5STqginSccO2Lh3',\n",
       " '2dE5audbkV3o5cKxvM7lBD',\n",
       " '1HQjBwlj8FSHMhVaNQ4tEI',\n",
       " '5274obTQJjzjyycRyJlfml',\n",
       " '4SPlQqq2yxd4ynKRnkWqy7',\n",
       " '3TJZG17pjOKXwx1ELKJPfm',\n",
       " '7tO6Y3qnEQUM3kaVNlpXbu',\n",
       " '6Z4kwq0LOaYQW2CqudoOIk',\n",
       " '3ZztVuWxHzNpl0THurTFCv',\n",
       " '0ussJndMOAWWfaUtXSttFU',\n",
       " '35l9BRT7MXmM8bv2WDQiyB',\n",
       " '5z5HaEaQY18oRwCuIXf826',\n",
       " '1QXwIgp7aA3JT7WIyaAcur',\n",
       " '6Ghvu1VvMGScGpOUJBAHNH',\n",
       " '1bZO4PkA6XbPl06MWrJyqK',\n",
       " '3AA28KZvwAUcZuOKwyblJQ',\n",
       " '43CwK7mj1NRZuXaC9SO6Zj',\n",
       " '3foVClMw8abQPBkTG0TZnf',\n",
       " '2tl280wIokrLjabzrSKTgU',\n",
       " '0CEFCo8288kQU7mJi25s6E',\n",
       " '3Uobr6LgQpBbk6k4QGAb3V',\n",
       " '3sHvvFIzt6FKUQuksXhZn3',\n",
       " '0lawSNBxNgJFQYJnQzLH8c']"
      ]
     },
     "execution_count": 9,
     "metadata": {},
     "output_type": "execute_result"
    }
   ],
   "source": [
    "with open(\"../resources/my_guys.json\", \"r\") as f:\n",
    "    artist_ids = json.load(f)\n",
    "\n",
    "artist_ids"
   ]
  },
  {
   "cell_type": "markdown",
   "id": "62c0bc8f",
   "metadata": {},
   "source": [
    "## Insert into DBs"
   ]
  },
  {
   "cell_type": "code",
   "execution_count": 10,
   "id": "60d27cdf",
   "metadata": {},
   "outputs": [],
   "source": [
    "def release_tracks(release_id: str) -> list:\n",
    "    response = spotify.album_tracks(release_id)\n",
    "\n",
    "    tracks = []\n",
    "    for track in response[\"items\"]:\n",
    "        tracks.append({\n",
    "            \"track_number\": track[\"track_number\"],\n",
    "            \"name\": track[\"name\"],\n",
    "            \"duration\": track[\"duration_ms\"]\n",
    "        })\n",
    "\n",
    "    while response[\"next\"]:\n",
    "        response = spotify.next(response)\n",
    "        for track in response[\"items\"]:\n",
    "            tracks.append({\n",
    "                \"track_number\": track[\"track_number\"],\n",
    "                \"name\": track[\"name\"],\n",
    "                \"duration\": track[\"duration_ms\"]\n",
    "            })\n",
    "\n",
    "    return tracks\n",
    "\n",
    "def artist_releases(artist_id: str) -> list:\n",
    "    response = spotify.artist_albums(artist_id, album_type=\"album\")\n",
    "\n",
    "    releases = []\n",
    "    for release in response[\"items\"]:\n",
    "        releases.append({\n",
    "            \"id\": release[\"id\"],\n",
    "            \"name\": release[\"name\"],\n",
    "            \"release_date\": release[\"release_date\"],\n",
    "            \"tracks\": release_tracks(release[\"id\"]),\n",
    "            \"ratings\": [],\n",
    "        })\n",
    "\n",
    "    while response[\"next\"]:\n",
    "        response = spotify.next(response)\n",
    "        for release in response[\"items\"]:\n",
    "            releases.append({\n",
    "                \"id\": release[\"id\"],\n",
    "                \"name\": release[\"name\"],\n",
    "                \"release_date\": release[\"release_date\"],\n",
    "                \"tracks\": release_tracks(release[\"id\"]),\n",
    "                \"ratings\": [],\n",
    "            })\n",
    "\n",
    "    return releases\n",
    "\n",
    "for artist_id in artist_ids:\n",
    "    response = spotify.artist(artist_id)\n",
    "\n",
    "    artist = dict()\n",
    "    artist[\"_id\"] = artist_id\n",
    "    artist[\"name\"] = response[\"name\"]\n",
    "    artist[\"genres\"] = response[\"genres\"]\n",
    "    artist_popularity = response[\"popularity\"]\n",
    "    if random.random() < 0.9:\n",
    "        artist[\"bio\"] = fake.paragraph(nb_sentences=25)\n",
    "    artist[\"qt_followers\"] = 0\n",
    "    artist[\"releases\"] = artist_releases(artist_id)\n",
    "\n",
    "    if len(artist[\"releases\"]) > 0:\n",
    "        mongo_db.artists.insert_one(artist)\n",
    "\n",
    "        neo4j.execute_query(\n",
    "            \"\"\"\n",
    "            MERGE (a:Artist {id: $id})\n",
    "            ON CREATE SET a.popularity = $popularity\n",
    "            \"\"\",\n",
    "            id = artist[\"_id\"],\n",
    "            popularity = artist_popularity,\n",
    "        )\n",
    "\n",
    "        for genre in artist[\"genres\"]:\n",
    "            neo4j.execute_query(\n",
    "                \"\"\"\n",
    "                MATCH (a:Artist {id: $artistId})\n",
    "                MERGE (g:Genre {name: $name})\n",
    "                MERGE (a)-[:BELONGS_TO]->(g)\n",
    "                \"\"\",\n",
    "                artistId = artist[\"_id\"],\n",
    "                name = genre,\n",
    "            )\n",
    "\n",
    "        for release in artist[\"releases\"]:\n",
    "            neo4j.execute_query(\n",
    "                \"\"\"\n",
    "                MATCH (a:Artist {id: $artistId})\n",
    "                MERGE (r:Release {id: $id})\n",
    "                MERGE (a)-[:RELEASED]->(r)\n",
    "                \"\"\",\n",
    "                artistId = artist[\"_id\"],\n",
    "                id = release[\"id\"],\n",
    "            )"
   ]
  },
  {
   "cell_type": "markdown",
   "id": "7149a50f",
   "metadata": {},
   "source": [
    "# Users"
   ]
  },
  {
   "cell_type": "markdown",
   "id": "19f49e7e",
   "metadata": {},
   "source": [
    "## Create Entities"
   ]
  },
  {
   "cell_type": "markdown",
   "id": "ace2d820",
   "metadata": {},
   "source": [
    "### MongoDB"
   ]
  },
  {
   "cell_type": "code",
   "execution_count": null,
   "id": "43460d95",
   "metadata": {},
   "outputs": [],
   "source": [
    "try:\n",
    "    mongo_db.create_collection(\"users\")\n",
    "    mongo_db.users.create_index(\"username\", unique=True)\n",
    "except CollectionInvalid as e:\n",
    "    print(e)"
   ]
  },
  {
   "cell_type": "markdown",
   "id": "8bd9069c",
   "metadata": {},
   "source": [
    "### Neo4j"
   ]
  },
  {
   "cell_type": "code",
   "execution_count": null,
   "id": "69fe8196",
   "metadata": {},
   "outputs": [],
   "source": [
    "try:\n",
    "    neo4j.execute_query(\"CREATE CONSTRAINT FOR (u:User) REQUIRE u.username IS UNIQUE\")\n",
    "except ClientError as e:\n",
    "    print(e.message)"
   ]
  },
  {
   "cell_type": "markdown",
   "id": "722531ed",
   "metadata": {},
   "source": [
    "## Insert into DBs"
   ]
  },
  {
   "cell_type": "markdown",
   "id": "b9dc82d2",
   "metadata": {},
   "source": [
    "### Randoms"
   ]
  },
  {
   "cell_type": "code",
   "execution_count": null,
   "id": "2c228b61",
   "metadata": {},
   "outputs": [],
   "source": [
    "QT_TRIES = 1_000\n",
    "qt_fails = 0\n",
    "\n",
    "for _ in range(QT_TRIES):\n",
    "    try:\n",
    "        first_name = fake.first_name()\n",
    "        last_name = fake.last_name()\n",
    "        number = random.randint(0, 99)\n",
    "\n",
    "        user = dict()\n",
    "        user[\"username\"] = f\"{first_name.lower()}_{last_name.lower()}{number:02}\"\n",
    "        user[\"password\"] = fake.sha256()\n",
    "        if random.random() < 0.75:\n",
    "            user[\"name\"] = f\"{first_name} {last_name}\"\n",
    "        if \"name\" in user and random.random() < 0.5:\n",
    "            user[\"bio\"] = fake.paragraph(nb_sentences=10)\n",
    "        user[\"friends\"] = []\n",
    "        user[\"artists_followed\"] = []\n",
    "        user[\"ratings\"] = []\n",
    "\n",
    "        mongo_db.users.insert_one(user)\n",
    "\n",
    "        neo4j.execute_query(\n",
    "            \"\"\"\n",
    "            MERGE (u:User {username: $username})\n",
    "            \"\"\",\n",
    "            username = user[\"username\"],\n",
    "        )\n",
    "    except DuplicateKeyError:\n",
    "        qt_fails += 1\n",
    "\n",
    "print(f\"Finished with {QT_TRIES - qt_fails} users inserted.\")        "
   ]
  },
  {
   "cell_type": "markdown",
   "id": "0074d0df",
   "metadata": {},
   "source": [
    "### Personalized"
   ]
  },
  {
   "cell_type": "code",
   "execution_count": null,
   "id": "a90db206",
   "metadata": {},
   "outputs": [],
   "source": [
    "user = dict()\n",
    "user[\"username\"] = f\"sahudy\"\n",
    "user[\"password\"] = fake.sha256()\n",
    "user[\"name\"] = f\"Sahudy Montenegro González\"\n",
    "user[\"bio\"] = (\n",
    "\"\"\"Criançada,\n",
    "\n",
    "me desculpem desde já, vou ter que cancelar a aula de amanhã. \n",
    "\n",
    "Sei que serão muito infelizes com essa notícia ;)\n",
    "\n",
    "A aula prevista para amanhã é sobre o Redis, um in-memory KV store, bem simples de se iniciar. A aula está liberada no AVA, mas eu vou repor ela no último dia de aula, como previsto no calendário, já que não interfere na elaboração dos projetos.\n",
    "\n",
    "Boa semana!\n",
    "\n",
    "G5: apresentação na semana que vem :) acredito que esta decisão minha possa nterferir no andamento do projeto de vocês, me escrevam por email sobre suas preocupações, se houver alguma. \n",
    "\n",
    "Abs,\"\"\"\n",
    ")\n",
    "user[\"friends\"] = []\n",
    "user[\"artists_followed\"] = []\n",
    "user[\"ratings\"] = []\n",
    "\n",
    "mongo_db.users.insert_one(user)\n",
    "\n",
    "neo4j.execute_query(\n",
    "    \"\"\"\n",
    "    MERGE (u:User {username: $username})\n",
    "    \"\"\",\n",
    "    username = user[\"username\"],\n",
    ")"
   ]
  },
  {
   "cell_type": "code",
   "execution_count": null,
   "id": "2b9d461a",
   "metadata": {},
   "outputs": [],
   "source": [
    "user = dict()\n",
    "user[\"username\"] = f\"ryansakurai\"\n",
    "user[\"password\"] = fake.sha256()\n",
    "user[\"name\"] = f\"Ryan Sakurai\"\n",
    "user[\"bio\"] = \"Sou Ryan, pessoa não binária, mestiço de raízes misturadas e pulsantes que carrego com orgulho no sangue, medindo 1,64m de pura teimosia e inquietude, apaixonado por metal, esse gênero musical que traduz em riffs e guturais toda a intensidade que sinto dentro do peito. Fã incondicional de One Piece, me identifico profundamente com as jornadas de superação, liberdade e amizade que a obra ensina, e confesso que choro mais do que gostaria em alguns arcos épicos — sim, meu lado nerd não falha em se emocionar com boas histórias. Entre um headbang e outro, vivo imerso em universos de fantasia, tecnologia e cultura pop, buscando sempre me expressar com autenticidade e sem medo de abraçar o que sou, por mais contraditório ou peculiar que isso possa parecer aos olhos dos outros.\"\n",
    "user[\"friends\"] = []\n",
    "user[\"artists_followed\"] = []\n",
    "user[\"ratings\"] = []\n",
    "\n",
    "mongo_db.users.insert_one(user)\n",
    "\n",
    "neo4j.execute_query(\n",
    "    \"\"\"\n",
    "    MERGE (u:User {username: $username})\n",
    "    \"\"\",\n",
    "    username = user[\"username\"],\n",
    ")"
   ]
  },
  {
   "cell_type": "code",
   "execution_count": null,
   "id": "8d89f422",
   "metadata": {},
   "outputs": [],
   "source": [
    "user = dict()\n",
    "user[\"username\"] = f\"viniciuscastro\"\n",
    "user[\"password\"] = fake.sha256()\n",
    "user[\"name\"] = f\"Vini\"\n",
    "user[\"bio\"] = \"Sou o Vini, um cara que domina o mundo das construções, mecânica e eletricidade, combinando força de pedreiro, precisão de mecânico e a paciência de eletricista — mesmo com minhas pernas finas, nada me segura quando o serviço chama. Sou funkeiro de alma, aquele que sente o batidão no corpo e na mente, mas não perco tempo com Instagram porque minha vida é muito real pra ficar postando tudo por aí. Faculdade? Ah, essa fica meio de lado, porque prefiro mil vezes acelerar na direção da minha rotina, dirigindo igual maluco pelas ruas e ainda surpreendendo com umas manobras de Python que aprendi na marra, misturando o mundo do código com a vida de obra e estrada. Minha vibe é fazer acontecer, mesmo que no ritmo acelerado e fora do convencional, porque ser do jeito que sou é o que me mantém firme e único.\"\n",
    "user[\"friends\"] = []\n",
    "user[\"artists_followed\"] = []\n",
    "user[\"ratings\"] = []\n",
    "\n",
    "mongo_db.users.insert_one(user)\n",
    "\n",
    "neo4j.execute_query(\n",
    "    \"\"\"\n",
    "    MERGE (u:User {username: $username})\n",
    "    \"\"\",\n",
    "    username = user[\"username\"],\n",
    ")"
   ]
  },
  {
   "cell_type": "code",
   "execution_count": null,
   "id": "3d8d68d6",
   "metadata": {},
   "outputs": [],
   "source": [
    "user = dict()\n",
    "user[\"username\"] = f\"caike_sant0s\"\n",
    "user[\"password\"] = fake.sha256()\n",
    "user[\"name\"] = f\"Caique (Hugo)\"\n",
    "user[\"bio\"] = \"Eu sou Caike, mas pode me chamar de Hugo ou Cacá, apelidos que me acompanham nas minhas aventuras de rolezeiro nato, sempre buscando o próximo encontro, a próxima história pra contar. Tenho uma irmã que, apesar das brigas e zoações, é parceira de vida e cúmplice das melhores confusões. Andar de moto é mais que um hobby, é um estilo de vida, a sensação de liberdade que só quem já sentiu o vento no rosto entende. Sempre sigo meu lema: existem dois tipos de problemas — o meu e o dos outros — e prefiro focar no que posso resolver, sem me perder nas dores alheias. Ah, e não é pouca coisa não, sou o aluno preferido da professora Sahudy, aquela que sabe reconhecer quando alguém leva as coisas a sério, mesmo que eu esteja sempre no meio do rolê.\"\n",
    "user[\"friends\"] = []\n",
    "user[\"artists_followed\"] = []\n",
    "user[\"ratings\"] = []\n",
    "\n",
    "mongo_db.users.insert_one(user)\n",
    "\n",
    "neo4j.execute_query(\n",
    "    \"\"\"\n",
    "    MERGE (u:User {username: $username})\n",
    "    \"\"\",\n",
    "    username = user[\"username\"],\n",
    ")"
   ]
  },
  {
   "cell_type": "markdown",
   "id": "52652345",
   "metadata": {},
   "source": [
    "# Close Connections"
   ]
  },
  {
   "cell_type": "code",
   "execution_count": null,
   "id": "6e56b850",
   "metadata": {},
   "outputs": [],
   "source": [
    "mongo_client.close()\n",
    "neo4j.close()"
   ]
  }
 ],
 "metadata": {
  "kernelspec": {
   "display_name": ".venv",
   "language": "python",
   "name": "python3"
  },
  "language_info": {
   "codemirror_mode": {
    "name": "ipython",
    "version": 3
   },
   "file_extension": ".py",
   "mimetype": "text/x-python",
   "name": "python",
   "nbconvert_exporter": "python",
   "pygments_lexer": "ipython3",
   "version": "3.12.3"
  }
 },
 "nbformat": 4,
 "nbformat_minor": 5
}
