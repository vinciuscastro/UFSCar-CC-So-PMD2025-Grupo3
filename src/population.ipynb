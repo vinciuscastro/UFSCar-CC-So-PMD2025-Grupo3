{
 "cells": [
  {
   "cell_type": "markdown",
   "id": "1a6d8635",
   "metadata": {},
   "source": [
    "# Preparation"
   ]
  },
  {
   "cell_type": "markdown",
   "id": "e84d05c4",
   "metadata": {},
   "source": [
    "## Imports"
   ]
  },
  {
   "cell_type": "code",
   "execution_count": null,
   "id": "02992af5",
   "metadata": {},
   "outputs": [],
   "source": [
    "import os\n",
    "import random\n",
    "import json\n",
    "import dotenv\n",
    "from pymongo import MongoClient\n",
    "from pymongo.server_api import ServerApi\n",
    "from pymongo.errors import CollectionInvalid, DuplicateKeyError\n",
    "from neo4j import GraphDatabase\n",
    "from neo4j.exceptions import ClientError\n",
    "import spotipy\n",
    "from spotipy.oauth2 import SpotifyClientCredentials\n",
    "from faker import Faker"
   ]
  },
  {
   "cell_type": "markdown",
   "id": "eda7b40b",
   "metadata": {},
   "source": [
    "## Connect to MongoDB"
   ]
  },
  {
   "cell_type": "code",
   "execution_count": null,
   "id": "670f86a8",
   "metadata": {},
   "outputs": [],
   "source": [
    "dotenv.load_dotenv()\n",
    "\n",
    "mongo_user = os.getenv(\"MONGODB_USERNAME\")\n",
    "mongo_pass = os.getenv(\"MONGODB_PASSWORD\")\n",
    "\n",
    "mongo_client = MongoClient(\n",
    "    (f\"mongodb+srv://{os.getenv(\"MONGODB_USERNAME\")}:{os.getenv(\"MONGODB_PASSWORD\")}\"\n",
    "     \"@projeto-bd.9scqvyv.mongodb.net/\"\n",
    "     \"?retryWrites=true&w=majority&appName=projeto-bd\"),\n",
    "    server_api = ServerApi(\n",
    "        version = \"1\",\n",
    "        strict = True,\n",
    "        deprecation_errors = True\n",
    "    )\n",
    ")\n",
    "\n",
    "mongo_db = mongo_client[\"music_catalog\"]"
   ]
  },
  {
   "cell_type": "markdown",
   "id": "ee0c504e",
   "metadata": {},
   "source": [
    "## Connect to Neo4j"
   ]
  },
  {
   "cell_type": "code",
   "execution_count": null,
   "id": "32545738",
   "metadata": {},
   "outputs": [],
   "source": [
    "dotenv.load_dotenv()\n",
    "\n",
    "neo4j = GraphDatabase.driver(\n",
    "    \"neo4j+s://10ab7e50.databases.neo4j.io\",\n",
    "    auth=(\n",
    "        os.getenv(\"NEO4J_USERNAME\"),\n",
    "        os.getenv(\"NEO4J_PASSWORD\"),\n",
    "    ),\n",
    ")\n",
    "\n",
    "neo4j.verify_connectivity()"
   ]
  },
  {
   "cell_type": "markdown",
   "id": "12130606",
   "metadata": {},
   "source": [
    "## Connect to Spotify API"
   ]
  },
  {
   "cell_type": "code",
   "execution_count": null,
   "id": "ff5d24bd",
   "metadata": {},
   "outputs": [],
   "source": [
    "dotenv.load_dotenv()\n",
    "\n",
    "spotify = spotipy.Spotify(auth_manager=SpotifyClientCredentials())"
   ]
  },
  {
   "cell_type": "markdown",
   "id": "296d8ad3",
   "metadata": {},
   "source": [
    "## Init Faker"
   ]
  },
  {
   "cell_type": "code",
   "execution_count": null,
   "id": "a6ba1a5a",
   "metadata": {},
   "outputs": [],
   "source": [
    "fake = Faker()"
   ]
  },
  {
   "cell_type": "markdown",
   "id": "fde7c029",
   "metadata": {},
   "source": [
    "# Artists"
   ]
  },
  {
   "cell_type": "markdown",
   "id": "2676cea9",
   "metadata": {},
   "source": [
    "## Create Entities"
   ]
  },
  {
   "cell_type": "markdown",
   "id": "04d4f3f5",
   "metadata": {},
   "source": [
    "### MongoDB"
   ]
  },
  {
   "cell_type": "code",
   "execution_count": null,
   "id": "953ca27c",
   "metadata": {},
   "outputs": [],
   "source": [
    "try:\n",
    "    mongo_db.create_collection(\"artists\")\n",
    "    mongo_db.artists.create_index(\"releases.id\")\n",
    "except CollectionInvalid as e:\n",
    "    print(e)"
   ]
  },
  {
   "cell_type": "markdown",
   "id": "80c06f74",
   "metadata": {},
   "source": [
    "### Neo4j"
   ]
  },
  {
   "cell_type": "code",
   "execution_count": null,
   "id": "4d5d9f7b",
   "metadata": {},
   "outputs": [],
   "source": [
    "try:\n",
    "    neo4j.execute_query(\"CREATE CONSTRAINT FOR (a:Artist) REQUIRE a.id IS UNIQUE\")\n",
    "    neo4j.execute_query(\"CREATE CONSTRAINT FOR (g:Genre) REQUIRE g.name IS UNIQUE\")\n",
    "    neo4j.execute_query(\"CREATE CONSTRAINT FOR (r:Release) REQUIRE r.id IS UNIQUE\")\n",
    "except ClientError as e:\n",
    "    print(e.message)"
   ]
  },
  {
   "cell_type": "markdown",
   "id": "6be53850",
   "metadata": {},
   "source": [
    "## Retrieve Artists by Genre"
   ]
  },
  {
   "cell_type": "markdown",
   "id": "82559ecf",
   "metadata": {},
   "source": [
    "### From Spotify"
   ]
  },
  {
   "cell_type": "code",
   "execution_count": null,
   "id": "01d218ab",
   "metadata": {},
   "outputs": [],
   "source": [
    "response = spotify.search(\n",
    "    q = \"genre:djent\",\n",
    "    type = \"artist\",\n",
    ")\n",
    "artist_ids = [artist[\"id\"] for artist in response[\"artists\"][\"items\"]]\n",
    "\n",
    "while response[\"artists\"][\"next\"]:\n",
    "    response = spotify.next(response[\"artists\"])\n",
    "    artist_ids.extend([artist[\"id\"] for artist in response[\"artists\"][\"items\"]])\n",
    "\n",
    "artist_ids"
   ]
  },
  {
   "cell_type": "markdown",
   "id": "6b4cb34f",
   "metadata": {},
   "source": [
    "### From JSON"
   ]
  },
  {
   "cell_type": "code",
   "execution_count": null,
   "id": "3e3d4a74",
   "metadata": {},
   "outputs": [],
   "source": [
    "with open(\"../resources/my_guys.json\", \"r\") as f:\n",
    "    artist_ids = json.load(f)\n",
    "\n",
    "artist_ids"
   ]
  },
  {
   "cell_type": "markdown",
   "id": "62c0bc8f",
   "metadata": {},
   "source": [
    "## Insert into DBs"
   ]
  },
  {
   "cell_type": "code",
   "execution_count": null,
   "id": "60d27cdf",
   "metadata": {},
   "outputs": [],
   "source": [
    "def release_tracks(release_id: str) -> list:\n",
    "    response = spotify.album_tracks(release_id)\n",
    "\n",
    "    tracks = []\n",
    "    for track in response[\"items\"]:\n",
    "        tracks.append({\n",
    "            \"track_number\": track[\"track_number\"],\n",
    "            \"name\": track[\"name\"],\n",
    "            \"duration\": track[\"duration_ms\"]\n",
    "        })\n",
    "\n",
    "    while response[\"next\"]:\n",
    "        response = spotify.next(response)\n",
    "        for track in response[\"items\"]:\n",
    "            tracks.append({\n",
    "                \"track_number\": track[\"track_number\"],\n",
    "                \"name\": track[\"name\"],\n",
    "                \"duration\": track[\"duration_ms\"]\n",
    "            })\n",
    "\n",
    "    return tracks\n",
    "\n",
    "def artist_releases(artist_id: str) -> list:\n",
    "    response = spotify.artist_albums(artist_id, album_type=\"album\")\n",
    "\n",
    "    releases = []\n",
    "    for release in response[\"items\"]:\n",
    "        releases.append({\n",
    "            \"id\": release[\"id\"],\n",
    "            \"name\": release[\"name\"],\n",
    "            \"release_date\": release[\"release_date\"],\n",
    "            \"tracks\": release_tracks(release[\"id\"]),\n",
    "            \"ratings\": [],\n",
    "        })\n",
    "\n",
    "    while response[\"next\"]:\n",
    "        response = spotify.next(response)\n",
    "        for release in response[\"items\"]:\n",
    "            releases.append({\n",
    "                \"id\": release[\"id\"],\n",
    "                \"name\": release[\"name\"],\n",
    "                \"release_date\": release[\"release_date\"],\n",
    "                \"tracks\": release_tracks(release[\"id\"]),\n",
    "                \"ratings\": [],\n",
    "            })\n",
    "\n",
    "    return releases\n",
    "\n",
    "for artist_id in artist_ids:\n",
    "    response = spotify.artist(artist_id)\n",
    "\n",
    "    artist = dict()\n",
    "    artist[\"_id\"] = artist_id\n",
    "    artist[\"name\"] = response[\"name\"]\n",
    "    artist[\"genres\"] = response[\"genres\"]\n",
    "    artist[\"popularity\"] = response[\"popularity\"]\n",
    "    if random.random() < 0.9:\n",
    "        artist[\"bio\"] = fake.paragraph(nb_sentences=25)\n",
    "    artist[\"qt_followers\"] = 0\n",
    "    artist[\"releases\"] = artist_releases(artist_id)\n",
    "\n",
    "    if len(artist[\"releases\"]) > 0:\n",
    "        mongo_db.artists.insert_one(artist)\n",
    "\n",
    "        neo4j.execute_query(\n",
    "            \"\"\"\n",
    "            MERGE (a:Artist {id: $id})\n",
    "            ON CREATE SET a.popularity = $popularity\n",
    "            \"\"\",\n",
    "            id = artist[\"_id\"],\n",
    "            popularity = artist[\"popularity\"],\n",
    "        )\n",
    "\n",
    "        for genre in artist[\"genres\"]:\n",
    "            neo4j.execute_query(\n",
    "                \"\"\"\n",
    "                MATCH (a:Artist {id: $artistId})\n",
    "                MERGE (g:Genre {name: $name})\n",
    "                MERGE (a)-[:BELONGS_TO]->(g)\n",
    "                \"\"\",\n",
    "                artistId = artist[\"_id\"],\n",
    "                name = genre,\n",
    "            )\n",
    "\n",
    "        for release in artist[\"releases\"]:\n",
    "            neo4j.execute_query(\n",
    "                \"\"\"\n",
    "                MATCH (a:Artist {id: $artistId})\n",
    "                MERGE (r:Release {id: $id})\n",
    "                MERGE (a)-[:RELEASED]->(r)\n",
    "                \"\"\",\n",
    "                artistId = artist[\"_id\"],\n",
    "                id = release[\"id\"],\n",
    "            )"
   ]
  },
  {
   "cell_type": "markdown",
   "id": "7149a50f",
   "metadata": {},
   "source": [
    "# Users"
   ]
  },
  {
   "cell_type": "markdown",
   "id": "19f49e7e",
   "metadata": {},
   "source": [
    "## Create Entities"
   ]
  },
  {
   "cell_type": "markdown",
   "id": "ace2d820",
   "metadata": {},
   "source": [
    "### MongoDB"
   ]
  },
  {
   "cell_type": "code",
   "execution_count": null,
   "id": "43460d95",
   "metadata": {},
   "outputs": [],
   "source": [
    "try:\n",
    "    mongo_db.create_collection(\"users\")\n",
    "    mongo_db.users.create_index(\"username\", unique=True)\n",
    "except CollectionInvalid as e:\n",
    "    print(e)"
   ]
  },
  {
   "cell_type": "markdown",
   "id": "8bd9069c",
   "metadata": {},
   "source": [
    "### Neo4j"
   ]
  },
  {
   "cell_type": "code",
   "execution_count": null,
   "id": "69fe8196",
   "metadata": {},
   "outputs": [],
   "source": [
    "try:\n",
    "    neo4j.execute_query(\"CREATE CONSTRAINT FOR (u:User) REQUIRE u.username IS UNIQUE\")\n",
    "except ClientError as e:\n",
    "    print(e.message)"
   ]
  },
  {
   "cell_type": "markdown",
   "id": "722531ed",
   "metadata": {},
   "source": [
    "## Insert into DBs"
   ]
  },
  {
   "cell_type": "code",
   "execution_count": null,
   "id": "a90db206",
   "metadata": {},
   "outputs": [],
   "source": [
    "QT_TRIES = 1_000\n",
    "qt_fails = 0\n",
    "\n",
    "for _ in range(QT_TRIES):\n",
    "    try:\n",
    "        first_name = fake.first_name()\n",
    "        last_name = fake.last_name()\n",
    "        number = random.randint(0, 99)\n",
    "\n",
    "        user = dict()\n",
    "        user[\"username\"] = f\"{first_name.lower()}_{last_name.lower()}{number:02}\"\n",
    "        user[\"password\"] = fake.sha256()\n",
    "        if random.random() < 0.75:\n",
    "            user[\"name\"] = f\"{first_name} {last_name}\"\n",
    "        if \"name\" in user and random.random() < 0.5:\n",
    "            user[\"bio\"] = fake.paragraph(nb_sentences=10)\n",
    "        user[\"friends\"] = []\n",
    "        user[\"artists_followed\"] = []\n",
    "        user[\"ratings\"] = []\n",
    "\n",
    "        mongo_db.users.insert_one(user)\n",
    "\n",
    "        neo4j.execute_query(\n",
    "            \"\"\"\n",
    "            MERGE (u:User {username: $username})\n",
    "            \"\"\",\n",
    "            username=user[\"username\"],\n",
    "        )\n",
    "    except DuplicateKeyError:\n",
    "        qt_fails += 1\n",
    "\n",
    "print(f\"Finished with {QT_TRIES - qt_fails} users inserted.\")        "
   ]
  },
  {
   "cell_type": "markdown",
   "id": "52652345",
   "metadata": {},
   "source": [
    "# Close Connections"
   ]
  },
  {
   "cell_type": "code",
   "execution_count": null,
   "id": "6e56b850",
   "metadata": {},
   "outputs": [],
   "source": [
    "mongo_client.close()\n",
    "neo4j.close()"
   ]
  }
 ],
 "metadata": {
  "kernelspec": {
   "display_name": ".venv",
   "language": "python",
   "name": "python3"
  },
  "language_info": {
   "codemirror_mode": {
    "name": "ipython",
    "version": 3
   },
   "file_extension": ".py",
   "mimetype": "text/x-python",
   "name": "python",
   "nbconvert_exporter": "python",
   "pygments_lexer": "ipython3",
   "version": "3.12.3"
  }
 },
 "nbformat": 4,
 "nbformat_minor": 5
}
