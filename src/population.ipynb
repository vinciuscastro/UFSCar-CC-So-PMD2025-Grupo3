{
 "cells": [
  {
   "cell_type": "markdown",
   "id": "1a6d8635",
   "metadata": {},
   "source": [
    "# Preparation"
   ]
  },
  {
   "cell_type": "markdown",
   "id": "e84d05c4",
   "metadata": {},
   "source": [
    "## Imports"
   ]
  },
  {
   "cell_type": "code",
   "execution_count": null,
   "id": "02992af5",
   "metadata": {},
   "outputs": [],
   "source": [
    "import os\n",
    "import time\n",
    "import random\n",
    "import json\n",
    "import dotenv\n",
    "import pymongo\n",
    "import neo4j\n",
    "import spotipy\n",
    "from faker import Faker\n",
    "from google import genai"
   ]
  },
  {
   "cell_type": "markdown",
   "id": "eda7b40b",
   "metadata": {},
   "source": [
    "## Connect to MongoDB"
   ]
  },
  {
   "cell_type": "code",
   "execution_count": null,
   "id": "670f86a8",
   "metadata": {},
   "outputs": [],
   "source": [
    "dotenv.load_dotenv()\n",
    "\n",
    "mongo_user = os.getenv(\"MONGODB_USERNAME\")\n",
    "mongo_pass = os.getenv(\"MONGODB_PASSWORD\")\n",
    "\n",
    "mongo_client = pymongo.MongoClient(\n",
    "    (f\"mongodb+srv://{os.getenv(\"MONGODB_USERNAME\")}:{os.getenv(\"MONGODB_PASSWORD\")}\"\n",
    "     \"@projeto-bd.9scqvyv.mongodb.net/\"\n",
    "     \"?retryWrites=true&w=majority&appName=projeto-bd\"),\n",
    "    server_api = pymongo.server_api.ServerApi(\n",
    "        version = \"1\",\n",
    "        strict = True,\n",
    "        deprecation_errors = True\n",
    "    )\n",
    ")\n",
    "\n",
    "mongodb_db = mongo_client[\"music_catalog\"]"
   ]
  },
  {
   "cell_type": "markdown",
   "id": "ee0c504e",
   "metadata": {},
   "source": [
    "## Connect to Neo4j"
   ]
  },
  {
   "cell_type": "code",
   "execution_count": null,
   "id": "32545738",
   "metadata": {},
   "outputs": [],
   "source": [
    "dotenv.load_dotenv()\n",
    "\n",
    "neo4j_db = neo4j.GraphDatabase.driver(\n",
    "    \"neo4j+s://10ab7e50.databases.neo4j.io\",\n",
    "    auth = (\n",
    "        os.getenv(\"NEO4J_USERNAME\"),\n",
    "        os.getenv(\"NEO4J_PASSWORD\"),\n",
    "    ),\n",
    ")\n",
    "\n",
    "neo4j_db.verify_connectivity()"
   ]
  },
  {
   "cell_type": "markdown",
   "id": "12130606",
   "metadata": {},
   "source": [
    "## Connect to Spotify API"
   ]
  },
  {
   "cell_type": "code",
   "execution_count": null,
   "id": "ff5d24bd",
   "metadata": {},
   "outputs": [],
   "source": [
    "dotenv.load_dotenv()\n",
    "\n",
    "spotify_api = spotipy.Spotify(auth_manager=spotipy.oauth2.SpotifyClientCredentials())"
   ]
  },
  {
   "cell_type": "markdown",
   "id": "d4e05252",
   "metadata": {},
   "source": [
    "## Connect to Gemini API"
   ]
  },
  {
   "cell_type": "code",
   "execution_count": null,
   "id": "f38e5d1a",
   "metadata": {},
   "outputs": [],
   "source": [
    "dotenv.load_dotenv()\n",
    "\n",
    "gemini = genai.Client(api_key=os.getenv(\"GEMINI_API_KEY\")).chats.create(model=\"gemini-2.5-flash\")"
   ]
  },
  {
   "cell_type": "markdown",
   "id": "296d8ad3",
   "metadata": {},
   "source": [
    "## Init Faker"
   ]
  },
  {
   "cell_type": "code",
   "execution_count": null,
   "id": "a6ba1a5a",
   "metadata": {},
   "outputs": [],
   "source": [
    "fake = Faker()"
   ]
  },
  {
   "cell_type": "markdown",
   "id": "fde7c029",
   "metadata": {},
   "source": [
    "# Artists"
   ]
  },
  {
   "cell_type": "markdown",
   "id": "2676cea9",
   "metadata": {},
   "source": [
    "## Create Entities"
   ]
  },
  {
   "cell_type": "markdown",
   "id": "04d4f3f5",
   "metadata": {},
   "source": [
    "### MongoDB"
   ]
  },
  {
   "cell_type": "code",
   "execution_count": null,
   "id": "953ca27c",
   "metadata": {},
   "outputs": [],
   "source": [
    "try:\n",
    "    mongodb_db.create_collection(\"artists\")\n",
    "    mongodb_db.artists.create_index(\"releases.id\")\n",
    "except pymongo.errors.CollectionInvalid as e:\n",
    "    print(e)"
   ]
  },
  {
   "cell_type": "markdown",
   "id": "80c06f74",
   "metadata": {},
   "source": [
    "### Neo4j"
   ]
  },
  {
   "cell_type": "code",
   "execution_count": null,
   "id": "4d5d9f7b",
   "metadata": {},
   "outputs": [],
   "source": [
    "try:\n",
    "    neo4j_db.execute_query(\"CREATE CONSTRAINT FOR (a:Artist) REQUIRE a.id IS UNIQUE\")\n",
    "    neo4j_db.execute_query(\"CREATE CONSTRAINT FOR (g:Genre) REQUIRE g.name IS UNIQUE\")\n",
    "    neo4j_db.execute_query(\"CREATE CONSTRAINT FOR (r:Release) REQUIRE r.id IS UNIQUE\")\n",
    "except neo4j.exceptions.ClientError as e:\n",
    "    print(e.message)"
   ]
  },
  {
   "cell_type": "markdown",
   "id": "6be53850",
   "metadata": {},
   "source": [
    "## Retrieve Artists by Genre"
   ]
  },
  {
   "cell_type": "markdown",
   "id": "82559ecf",
   "metadata": {},
   "source": [
    "### From Spotify"
   ]
  },
  {
   "cell_type": "code",
   "execution_count": null,
   "id": "01d218ab",
   "metadata": {},
   "outputs": [],
   "source": [
    "response = spotify_api.search(\n",
    "    q = \"genre:djent\",\n",
    "    type = \"artist\",\n",
    ")\n",
    "artist_ids = [artist[\"id\"] for artist in response[\"artists\"][\"items\"]]\n",
    "\n",
    "while response[\"artists\"][\"next\"]:\n",
    "    response = spotify_api.next(response[\"artists\"])\n",
    "    artist_ids.extend([artist[\"id\"] for artist in response[\"artists\"][\"items\"]])\n",
    "\n",
    "artist_ids"
   ]
  },
  {
   "cell_type": "markdown",
   "id": "6b4cb34f",
   "metadata": {},
   "source": [
    "### From JSON"
   ]
  },
  {
   "cell_type": "code",
   "execution_count": null,
   "id": "3e3d4a74",
   "metadata": {},
   "outputs": [],
   "source": [
    "with open(\"../resources/ryans_artists.json\", \"r\") as f:\n",
    "    artist_ids = json.load(f)\n",
    "\n",
    "artist_ids"
   ]
  },
  {
   "cell_type": "markdown",
   "id": "62c0bc8f",
   "metadata": {},
   "source": [
    "## Insert into DBs"
   ]
  },
  {
   "cell_type": "code",
   "execution_count": null,
   "id": "60d27cdf",
   "metadata": {},
   "outputs": [],
   "source": [
    "def release_tracks(release_id: str) -> list:\n",
    "    response = spotify_api.album_tracks(release_id)\n",
    "\n",
    "    tracks = []\n",
    "    for track in response[\"items\"]:\n",
    "        tracks.append({\n",
    "            \"track_number\": track[\"track_number\"],\n",
    "            \"name\": track[\"name\"],\n",
    "            \"duration\": track[\"duration_ms\"]\n",
    "        })\n",
    "\n",
    "    while response[\"next\"]:\n",
    "        response = spotify_api.next(response)\n",
    "        for track in response[\"items\"]:\n",
    "            tracks.append({\n",
    "                \"track_number\": track[\"track_number\"],\n",
    "                \"name\": track[\"name\"],\n",
    "                \"duration\": track[\"duration_ms\"]\n",
    "            })\n",
    "\n",
    "    return tracks\n",
    "\n",
    "def artist_releases(artist_id: str) -> list:\n",
    "    response = spotify_api.artist_albums(artist_id, album_type=\"album\")\n",
    "\n",
    "    releases = []\n",
    "    for release in response[\"items\"]:\n",
    "        releases.append({\n",
    "            \"id\": release[\"id\"],\n",
    "            \"name\": release[\"name\"],\n",
    "            \"release_date\": release[\"release_date\"],\n",
    "            \"tracks\": release_tracks(release[\"id\"]),\n",
    "            \"ratings\": [],\n",
    "        })\n",
    "\n",
    "    while response[\"next\"]:\n",
    "        response = spotify_api.next(response)\n",
    "        for release in response[\"items\"]:\n",
    "            releases.append({\n",
    "                \"id\": release[\"id\"],\n",
    "                \"name\": release[\"name\"],\n",
    "                \"release_date\": release[\"release_date\"],\n",
    "                \"tracks\": release_tracks(release[\"id\"]),\n",
    "                \"ratings\": [],\n",
    "            })\n",
    "\n",
    "    return releases\n",
    "\n",
    "for artist_id in artist_ids:\n",
    "    response = spotify_api.artist(artist_id)\n",
    "\n",
    "    artist = dict()\n",
    "    artist[\"_id\"] = artist_id\n",
    "    artist[\"name\"] = response[\"name\"]\n",
    "    artist[\"genres\"] = response[\"genres\"]\n",
    "    artist_popularity = response[\"popularity\"]\n",
    "    artist[\"bio\"] = fake.paragraph(nb_sentences=25)\n",
    "    artist[\"qt_followers\"] = 0\n",
    "    artist[\"releases\"] = artist_releases(artist_id)\n",
    "\n",
    "    if len(artist[\"releases\"]) > 0:\n",
    "        mongodb_db.artists.insert_one(artist)\n",
    "\n",
    "        neo4j_db.execute_query(\n",
    "            \"\"\"\n",
    "            MERGE (a:Artist {id: $id})\n",
    "            ON CREATE SET a.popularity = $popularity\n",
    "            \"\"\",\n",
    "            id = artist[\"_id\"],\n",
    "            popularity = artist_popularity,\n",
    "        )\n",
    "\n",
    "        for genre in artist[\"genres\"]:\n",
    "            neo4j_db.execute_query(\n",
    "                \"\"\"\n",
    "                MATCH (a:Artist {id: $artistId})\n",
    "                MERGE (g:Genre {name: $name})\n",
    "                MERGE (a)-[:BELONGS_TO]->(g)\n",
    "                \"\"\",\n",
    "                artistId = artist[\"_id\"],\n",
    "                name = genre,\n",
    "            )\n",
    "\n",
    "        for release in artist[\"releases\"]:\n",
    "            neo4j_db.execute_query(\n",
    "                \"\"\"\n",
    "                MATCH (a:Artist {id: $artistId})\n",
    "                MERGE (r:Release {id: $id})\n",
    "                MERGE (a)-[:RELEASED]->(r)\n",
    "                \"\"\",\n",
    "                artistId = artist[\"_id\"],\n",
    "                id = release[\"id\"],\n",
    "            )"
   ]
  },
  {
   "cell_type": "markdown",
   "id": "33b801ba",
   "metadata": {},
   "source": [
    "## Change Bios"
   ]
  },
  {
   "cell_type": "markdown",
   "id": "2b18176f",
   "metadata": {},
   "source": [
    "### Do it"
   ]
  },
  {
   "cell_type": "code",
   "execution_count": null,
   "id": "a6082131",
   "metadata": {},
   "outputs": [],
   "source": [
    "artists_cursor = mongodb_db.artists.find(\n",
    "    {\n",
    "        \"updated\": {\n",
    "            \"$exists\": False,\n",
    "        },\n",
    "    },\n",
    ")\n",
    "updated_count = 0\n",
    "\n",
    "for artist in artists_cursor:\n",
    "    try:\n",
    "        bio = gemini.send_message(\n",
    "            f\"Give me a bio for the music artist {artist[\"name\"]}. Respond with only a paragraph-long the bio.\",\n",
    "        ).text.strip()\n",
    "        \n",
    "        update_result = mongodb_db.artists.update_one(\n",
    "            {\n",
    "                \"_id\": artist[\"_id\"],\n",
    "            },\n",
    "            {\n",
    "                \"$set\": {\n",
    "                    \"bio\": bio,\n",
    "                    \"updated\": True,\n",
    "                }\n",
    "            }\n",
    "        )\n",
    "\n",
    "        updated_count += 1\n",
    "        time.sleep(5)\n",
    "    except genai.errors.ClientError as e:\n",
    "        if not e.code == 429:\n",
    "            print(e)\n",
    "        break\n",
    "\n",
    "result = tuple(\n",
    "    mongodb_db.artists.aggregate([\n",
    "        {\n",
    "            \"$group\": {\n",
    "                \"_id\": None,\n",
    "                \"total\": {\n",
    "                    \"$sum\": 1,\n",
    "                },\n",
    "                \"updated\": {\n",
    "                    \"$sum\": {\n",
    "                        \"$cond\": [\n",
    "                            {\n",
    "                                \"$ifNull\": [\n",
    "                                    \"$updated\",\n",
    "                                    False,\n",
    "                                ],\n",
    "                            }, \n",
    "                            1, \n",
    "                            0,\n",
    "                        ],\n",
    "                    },\n",
    "                },\n",
    "            },\n",
    "        },\n",
    "    ])\n",
    ")[0]\n",
    "\n",
    "print(f\"Progress: {result[\"updated\"]}/{result[\"total\"]}\")\n",
    "print(f\"Bios updated: {updated_count}\")"
   ]
  },
  {
   "cell_type": "markdown",
   "id": "98829635",
   "metadata": {},
   "source": [
    "### Remove \"updated\" property"
   ]
  },
  {
   "cell_type": "code",
   "execution_count": null,
   "id": "71c449b9",
   "metadata": {},
   "outputs": [],
   "source": [
    "result = mongodb_db.artists.update_many(\n",
    "    {\n",
    "        \"updated\": {\n",
    "            \"$exists\": True,\n",
    "        },\n",
    "    },\n",
    "    {\n",
    "        \"$unset\": {\n",
    "            \"updated\": None,\n",
    "        },\n",
    "    },\n",
    ")\n",
    "\n",
    "print(f\"Removed from {result.modified_count} artists\")"
   ]
  },
  {
   "cell_type": "markdown",
   "id": "7149a50f",
   "metadata": {},
   "source": [
    "# Users"
   ]
  },
  {
   "cell_type": "markdown",
   "id": "19f49e7e",
   "metadata": {},
   "source": [
    "## Create Entities"
   ]
  },
  {
   "cell_type": "markdown",
   "id": "ace2d820",
   "metadata": {},
   "source": [
    "### MongoDB"
   ]
  },
  {
   "cell_type": "code",
   "execution_count": null,
   "id": "43460d95",
   "metadata": {},
   "outputs": [],
   "source": [
    "try:\n",
    "    mongodb_db.create_collection(\"users\")\n",
    "    mongodb_db.users.create_index(\"username\", unique=True)\n",
    "except pymongo.errors.CollectionInvalid as e:\n",
    "    print(e)"
   ]
  },
  {
   "cell_type": "markdown",
   "id": "8bd9069c",
   "metadata": {},
   "source": [
    "### Neo4j"
   ]
  },
  {
   "cell_type": "code",
   "execution_count": null,
   "id": "69fe8196",
   "metadata": {},
   "outputs": [],
   "source": [
    "try:\n",
    "    neo4j_db.execute_query(\"CREATE CONSTRAINT FOR (u:User) REQUIRE u.username IS UNIQUE\")\n",
    "except neo4j.exceptions.ClientError as e:\n",
    "    print(e.message)"
   ]
  },
  {
   "cell_type": "markdown",
   "id": "722531ed",
   "metadata": {},
   "source": [
    "## Insert into DBs"
   ]
  },
  {
   "cell_type": "markdown",
   "id": "b9dc82d2",
   "metadata": {},
   "source": [
    "### Randoms"
   ]
  },
  {
   "cell_type": "code",
   "execution_count": null,
   "id": "2c228b61",
   "metadata": {},
   "outputs": [],
   "source": [
    "QT_TRIES = 1_000\n",
    "qt_fails = 0\n",
    "\n",
    "for _ in range(QT_TRIES):\n",
    "    try:\n",
    "        first_name = fake.first_name()\n",
    "        last_name = fake.last_name()\n",
    "        number = random.randint(0, 99)\n",
    "\n",
    "        user = dict()\n",
    "        user[\"username\"] = f\"{first_name.lower()}_{last_name.lower()}{number:02}\"\n",
    "        user[\"password\"] = fake.sha256()\n",
    "        if random.random() < 0.75:\n",
    "            user[\"name\"] = f\"{first_name} {last_name}\"\n",
    "        if \"name\" in user and random.random() < 0.5:\n",
    "            user[\"bio\"] = fake.paragraph(nb_sentences=10)\n",
    "        user[\"friends\"] = []\n",
    "        user[\"artists_followed\"] = []\n",
    "        user[\"ratings\"] = []\n",
    "\n",
    "        mongodb_db.users.insert_one(user)\n",
    "\n",
    "        neo4j_db.execute_query(\n",
    "            \"\"\"\n",
    "            MERGE (u:User {username: $username})\n",
    "            \"\"\",\n",
    "            username = user[\"username\"],\n",
    "        )\n",
    "    except pymongo.errors.DuplicateKeyError:\n",
    "        qt_fails += 1\n",
    "\n",
    "print(f\"Finished with {QT_TRIES - qt_fails} users inserted.\")        "
   ]
  },
  {
   "cell_type": "markdown",
   "id": "0074d0df",
   "metadata": {},
   "source": [
    "### Personalized"
   ]
  },
  {
   "cell_type": "code",
   "execution_count": null,
   "id": "9668de6e",
   "metadata": {},
   "outputs": [],
   "source": [
    "users_to_delete = list(mongodb_db.users.find({}, {\"username\": 1}).limit(4))\n",
    "usernames = [user[\"username\"] for user in users_to_delete]\n",
    "\n",
    "print(f\"Users to delete: {usernames}\")\n",
    "\n",
    "mongo_result = mongodb_db.users.delete_many(\n",
    "    {\"username\": {\"$in\": usernames}}\n",
    ")\n",
    "\n",
    "print(f\"Deleted {mongo_result.deleted_count} documents from MongoDB\")\n",
    "\n",
    "neo4j_result = neo4j_db.execute_query(\n",
    "    \"\"\"\n",
    "    MATCH (u:User)\n",
    "    WHERE u.username IN $usernames\n",
    "    DETACH DELETE u\n",
    "    \"\"\",\n",
    "    usernames=usernames\n",
    ")\n",
    "\n",
    "print(f\"Deleted {neo4j_result.summary.counters.nodes_deleted} nodes from Neo4j\")"
   ]
  },
  {
   "cell_type": "code",
   "execution_count": null,
   "id": "a90db206",
   "metadata": {},
   "outputs": [],
   "source": [
    "with open(\"../resources/personalized_users.json\", \"r\") as f:\n",
    "    for user in json.load(f):\n",
    "        document = dict()\n",
    "        document[\"username\"] = user[\"username\"]\n",
    "        document[\"password\"] = fake.sha256()\n",
    "        document[\"name\"] = user[\"name\"]\n",
    "        document[\"bio\"] = user[\"bio\"]\n",
    "        document[\"friends\"] = []\n",
    "        document[\"artists_followed\"] = []\n",
    "        document[\"ratings\"] = []\n",
    "\n",
    "        mongodb_db.users.insert_one(document)\n",
    "\n",
    "        neo4j_db.execute_query(\n",
    "            \"\"\"\n",
    "            MERGE (u:User {username: $username})\n",
    "            \"\"\",\n",
    "            username = document[\"username\"],\n",
    "        )"
   ]
  },
  {
   "cell_type": "markdown",
   "id": "362c4e82",
   "metadata": {},
   "source": [
    "## Change Bios"
   ]
  },
  {
   "cell_type": "markdown",
   "id": "3493aa9d",
   "metadata": {},
   "source": [
    "### Do it"
   ]
  },
  {
   "cell_type": "code",
   "execution_count": null,
   "id": "cb73aeed",
   "metadata": {},
   "outputs": [],
   "source": [
    "users_cursor = mongodb_db.users.find(\n",
    "    {\n",
    "        \"bio\": {\n",
    "            \"$exists\": True,\n",
    "        },\n",
    "        \"updated\": {\n",
    "            \"$exists\": False,\n",
    "        },\n",
    "        \"username\": {\n",
    "            \"$nin\": [\"sahudy\", \"ryansakurai\", \"viniciuscastro\", \"caike_sant0s\"]\n",
    "        },\n",
    "    },\n",
    ")\n",
    "\n",
    "updated_count = 0\n",
    "\n",
    "for user in users_cursor:\n",
    "    try:\n",
    "        bio = gemini.send_message(\n",
    "            f\"Create a random informal bio in first person for a person called {user[\"name\"]}. Respond with only the bio\",\n",
    "        ).text.strip()\n",
    "        \n",
    "        update_result = mongodb_db.users.update_one(\n",
    "            {\n",
    "                \"username\": user[\"username\"],\n",
    "            },\n",
    "            {\n",
    "                \"$set\": {\n",
    "                    \"bio\": bio,\n",
    "                    \"updated\": True,\n",
    "                }\n",
    "            },\n",
    "        )\n",
    "\n",
    "        updated_count += 1\n",
    "        time.sleep(5)\n",
    "    except genai.errors.ClientError as e:\n",
    "        if not e.code == 429:\n",
    "            print(e)\n",
    "        break\n",
    "\n",
    "result = tuple(\n",
    "    mongodb_db.users.aggregate([\n",
    "        {\n",
    "            \"$match\": {\n",
    "                \"bio\": {\n",
    "                    \"$exists\": True,\n",
    "                },\n",
    "                \"username\": {\n",
    "                    \"$nin\": [\"sahudy\", \"ryansakurai\", \"viniciuscastro\", \"caike_sant0s\"]\n",
    "                },\n",
    "            },\n",
    "        },\n",
    "        {\n",
    "            \"$group\": {\n",
    "                \"_id\": None,\n",
    "                \"total\": {\n",
    "                    \"$sum\": 1,\n",
    "                },\n",
    "                \"updated\": {\n",
    "                    \"$sum\": {\n",
    "                        \"$cond\": [\n",
    "                            {\n",
    "                                \"$ifNull\": [\n",
    "                                    \"$updated\",\n",
    "                                    False,\n",
    "                                ],\n",
    "                            }, \n",
    "                            1, \n",
    "                            0,\n",
    "                        ],\n",
    "                    },\n",
    "                },\n",
    "            },\n",
    "        },\n",
    "    ])\n",
    ")[0]\n",
    "\n",
    "print(f\"Progress: {result[\"updated\"]}/{result[\"total\"]}\")\n",
    "print(f\"Bios updated: {updated_count}\")"
   ]
  },
  {
   "cell_type": "markdown",
   "id": "fe5c93a7",
   "metadata": {},
   "source": [
    "### Remove `updated` Property"
   ]
  },
  {
   "cell_type": "code",
   "execution_count": null,
   "id": "34289921",
   "metadata": {},
   "outputs": [],
   "source": [
    "result = mongodb_db.users.update_many(\n",
    "    {\n",
    "        \"updated\": {\n",
    "            \"$exists\": True,\n",
    "        },\n",
    "    },\n",
    "    {\n",
    "        \"$unset\": {\n",
    "            \"updated\": None,\n",
    "        },\n",
    "    },\n",
    ")\n",
    "\n",
    "print(f\"Removed from {result.modified_count} users\")"
   ]
  },
  {
   "cell_type": "markdown",
   "id": "52652345",
   "metadata": {},
   "source": [
    "# Close Connections"
   ]
  },
  {
   "cell_type": "code",
   "execution_count": 16,
   "id": "6e56b850",
   "metadata": {},
   "outputs": [],
   "source": [
    "mongo_client.close()\n",
    "neo4j_db.close()"
   ]
  }
 ],
 "metadata": {
  "kernelspec": {
   "display_name": ".venv",
   "language": "python",
   "name": "python3"
  },
  "language_info": {
   "codemirror_mode": {
    "name": "ipython",
    "version": 3
   },
   "file_extension": ".py",
   "mimetype": "text/x-python",
   "name": "python",
   "nbconvert_exporter": "python",
   "pygments_lexer": "ipython3",
   "version": "3.12.3"
  }
 },
 "nbformat": 4,
 "nbformat_minor": 5
}
